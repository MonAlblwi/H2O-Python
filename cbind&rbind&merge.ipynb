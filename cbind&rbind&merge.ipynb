{
 "cells": [
  {
   "cell_type": "code",
   "execution_count": 5,
   "metadata": {},
   "outputs": [],
   "source": [
    "import h2o\n",
    "import h2o.grid\n",
    "import pandas as pd\n",
    "import numpy as np "
   ]
  },
  {
   "cell_type": "code",
   "execution_count": 6,
   "metadata": {},
   "outputs": [
    {
     "name": "stdout",
     "output_type": "stream",
     "text": [
      "Checking whether there is an H2O instance running at http://localhost:54321 ..... not found.\n",
      "Attempting to start a local H2O server...\n",
      "; Java HotSpot(TM) 64-Bit Server VM (build 25.211-b12, mixed mode)\n",
      "  Starting server from C:\\Users\\malbalawi\\AppData\\Roaming\\Python\\Python37\\site-packages\\h2o\\backend\\bin\\h2o.jar\n",
      "  Ice root: C:\\Users\\malbalawi\\AppData\\Local\\Temp\\2\\tmp_bn5xbn0\n",
      "  JVM stdout: C:\\Users\\malbalawi\\AppData\\Local\\Temp\\2\\tmp_bn5xbn0\\h2o_malbalawi_started_from_python.out\n",
      "  JVM stderr: C:\\Users\\malbalawi\\AppData\\Local\\Temp\\2\\tmp_bn5xbn0\\h2o_malbalawi_started_from_python.err\n",
      "  Server is running at http://127.0.0.1:54321\n",
      "Connecting to H2O server at http://127.0.0.1:54321 ... successful.\n"
     ]
    },
    {
     "data": {
      "text/html": [
       "<div style=\"overflow:auto\"><table style=\"width:50%\"><tr><td>H2O cluster uptime:</td>\n",
       "<td>07 secs</td></tr>\n",
       "<tr><td>H2O cluster timezone:</td>\n",
       "<td>America/Chicago</td></tr>\n",
       "<tr><td>H2O data parsing timezone:</td>\n",
       "<td>UTC</td></tr>\n",
       "<tr><td>H2O cluster version:</td>\n",
       "<td>3.24.0.4</td></tr>\n",
       "<tr><td>H2O cluster version age:</td>\n",
       "<td>1 month and 5 days </td></tr>\n",
       "<tr><td>H2O cluster name:</td>\n",
       "<td>H2O_from_python_malbalawi_7xt0lx</td></tr>\n",
       "<tr><td>H2O cluster total nodes:</td>\n",
       "<td>1</td></tr>\n",
       "<tr><td>H2O cluster free memory:</td>\n",
       "<td>1.653 Gb</td></tr>\n",
       "<tr><td>H2O cluster total cores:</td>\n",
       "<td>4</td></tr>\n",
       "<tr><td>H2O cluster allowed cores:</td>\n",
       "<td>4</td></tr>\n",
       "<tr><td>H2O cluster status:</td>\n",
       "<td>accepting new members, healthy</td></tr>\n",
       "<tr><td>H2O connection url:</td>\n",
       "<td>http://127.0.0.1:54321</td></tr>\n",
       "<tr><td>H2O connection proxy:</td>\n",
       "<td>None</td></tr>\n",
       "<tr><td>H2O internal security:</td>\n",
       "<td>False</td></tr>\n",
       "<tr><td>H2O API Extensions:</td>\n",
       "<td>Amazon S3, Algos, AutoML, Core V3, Core V4</td></tr>\n",
       "<tr><td>Python version:</td>\n",
       "<td>3.7.3 final</td></tr></table></div>"
      ],
      "text/plain": [
       "--------------------------  ------------------------------------------\n",
       "H2O cluster uptime:         07 secs\n",
       "H2O cluster timezone:       America/Chicago\n",
       "H2O data parsing timezone:  UTC\n",
       "H2O cluster version:        3.24.0.4\n",
       "H2O cluster version age:    1 month and 5 days\n",
       "H2O cluster name:           H2O_from_python_malbalawi_7xt0lx\n",
       "H2O cluster total nodes:    1\n",
       "H2O cluster free memory:    1.653 Gb\n",
       "H2O cluster total cores:    4\n",
       "H2O cluster allowed cores:  4\n",
       "H2O cluster status:         accepting new members, healthy\n",
       "H2O connection url:         http://127.0.0.1:54321\n",
       "H2O connection proxy:\n",
       "H2O internal security:      False\n",
       "H2O API Extensions:         Amazon S3, Algos, AutoML, Core V3, Core V4\n",
       "Python version:             3.7.3 final\n",
       "--------------------------  ------------------------------------------"
      ]
     },
     "metadata": {},
     "output_type": "display_data"
    }
   ],
   "source": [
    "h2o.init()"
   ]
  },
  {
   "cell_type": "code",
   "execution_count": 1,
   "metadata": {},
   "outputs": [],
   "source": [
    "# use cbind()  they have diffrent number of rows < use rbind () they g=have diffrent nuumber of rows"
   ]
  },
  {
   "cell_type": "markdown",
   "metadata": {},
   "source": [
    "# Use h2o.merge() to join tables together when they have 1+ columns un commen "
   ]
  },
  {
   "cell_type": "code",
   "execution_count": 8,
   "metadata": {},
   "outputs": [
    {
     "name": "stdout",
     "output_type": "stream",
     "text": [
      "Parse progress: |█████████████████████████████████████████████████████████| 100%\n"
     ]
    }
   ],
   "source": [
    "#Create dataframe  A\n",
    "A= h2o.H2OFrame(\n",
    "    pd.DataFrame({\n",
    "        'a':range(1,11),\n",
    "        'b':range(11,21),\n",
    "        'c':range(21,31)\n",
    "    }),\n",
    "    destination_frame=\"A\"\n",
    ")"
   ]
  },
  {
   "cell_type": "code",
   "execution_count": 9,
   "metadata": {},
   "outputs": [
    {
     "data": {
      "text/html": [
       "<div>\n",
       "<style scoped>\n",
       "    .dataframe tbody tr th:only-of-type {\n",
       "        vertical-align: middle;\n",
       "    }\n",
       "\n",
       "    .dataframe tbody tr th {\n",
       "        vertical-align: top;\n",
       "    }\n",
       "\n",
       "    .dataframe thead th {\n",
       "        text-align: right;\n",
       "    }\n",
       "</style>\n",
       "<table border=\"1\" class=\"dataframe\">\n",
       "  <thead>\n",
       "    <tr style=\"text-align: right;\">\n",
       "      <th></th>\n",
       "      <th>a</th>\n",
       "      <th>b</th>\n",
       "      <th>c</th>\n",
       "    </tr>\n",
       "  </thead>\n",
       "  <tbody>\n",
       "    <tr>\n",
       "      <th>0</th>\n",
       "      <td>1</td>\n",
       "      <td>11</td>\n",
       "      <td>21</td>\n",
       "    </tr>\n",
       "    <tr>\n",
       "      <th>1</th>\n",
       "      <td>2</td>\n",
       "      <td>12</td>\n",
       "      <td>22</td>\n",
       "    </tr>\n",
       "    <tr>\n",
       "      <th>2</th>\n",
       "      <td>3</td>\n",
       "      <td>13</td>\n",
       "      <td>23</td>\n",
       "    </tr>\n",
       "    <tr>\n",
       "      <th>3</th>\n",
       "      <td>4</td>\n",
       "      <td>14</td>\n",
       "      <td>24</td>\n",
       "    </tr>\n",
       "    <tr>\n",
       "      <th>4</th>\n",
       "      <td>5</td>\n",
       "      <td>15</td>\n",
       "      <td>25</td>\n",
       "    </tr>\n",
       "    <tr>\n",
       "      <th>5</th>\n",
       "      <td>6</td>\n",
       "      <td>16</td>\n",
       "      <td>26</td>\n",
       "    </tr>\n",
       "    <tr>\n",
       "      <th>6</th>\n",
       "      <td>7</td>\n",
       "      <td>17</td>\n",
       "      <td>27</td>\n",
       "    </tr>\n",
       "    <tr>\n",
       "      <th>7</th>\n",
       "      <td>8</td>\n",
       "      <td>18</td>\n",
       "      <td>28</td>\n",
       "    </tr>\n",
       "    <tr>\n",
       "      <th>8</th>\n",
       "      <td>9</td>\n",
       "      <td>19</td>\n",
       "      <td>29</td>\n",
       "    </tr>\n",
       "    <tr>\n",
       "      <th>9</th>\n",
       "      <td>10</td>\n",
       "      <td>20</td>\n",
       "      <td>30</td>\n",
       "    </tr>\n",
       "  </tbody>\n",
       "</table>\n",
       "</div>"
      ],
      "text/plain": [
       "    a   b   c\n",
       "0   1  11  21\n",
       "1   2  12  22\n",
       "2   3  13  23\n",
       "3   4  14  24\n",
       "4   5  15  25\n",
       "5   6  16  26\n",
       "6   7  17  27\n",
       "7   8  18  28\n",
       "8   9  19  29\n",
       "9  10  20  30"
      ]
     },
     "execution_count": 9,
     "metadata": {},
     "output_type": "execute_result"
    }
   ],
   "source": [
    "A.as_data_frame()"
   ]
  },
  {
   "cell_type": "code",
   "execution_count": 11,
   "metadata": {},
   "outputs": [
    {
     "name": "stdout",
     "output_type": "stream",
     "text": [
      "Parse progress: |█████████████████████████████████████████████████████████| 100%\n"
     ]
    }
   ],
   "source": [
    "# Creat dataframe B\n",
    "np.random.seed(123)\n",
    "B=h2o.H2OFrame(\n",
    "pd.DataFrame({\n",
    "    'a':np.random.randint(6,13,20),\n",
    "    'd':np.random.randint(6,13,20)\n",
    "}),\n",
    "   destination_frame=\"B\"  \n",
    ")"
   ]
  },
  {
   "cell_type": "code",
   "execution_count": 13,
   "metadata": {},
   "outputs": [
    {
     "data": {
      "text/html": [
       "<div>\n",
       "<style scoped>\n",
       "    .dataframe tbody tr th:only-of-type {\n",
       "        vertical-align: middle;\n",
       "    }\n",
       "\n",
       "    .dataframe tbody tr th {\n",
       "        vertical-align: top;\n",
       "    }\n",
       "\n",
       "    .dataframe thead th {\n",
       "        text-align: right;\n",
       "    }\n",
       "</style>\n",
       "<table border=\"1\" class=\"dataframe\">\n",
       "  <thead>\n",
       "    <tr style=\"text-align: right;\">\n",
       "      <th></th>\n",
       "      <th>a</th>\n",
       "      <th>d</th>\n",
       "    </tr>\n",
       "  </thead>\n",
       "  <tbody>\n",
       "    <tr>\n",
       "      <th>0</th>\n",
       "      <td>12</td>\n",
       "      <td>6</td>\n",
       "    </tr>\n",
       "    <tr>\n",
       "      <th>1</th>\n",
       "      <td>11</td>\n",
       "      <td>7</td>\n",
       "    </tr>\n",
       "    <tr>\n",
       "      <th>2</th>\n",
       "      <td>12</td>\n",
       "      <td>9</td>\n",
       "    </tr>\n",
       "    <tr>\n",
       "      <th>3</th>\n",
       "      <td>8</td>\n",
       "      <td>12</td>\n",
       "    </tr>\n",
       "    <tr>\n",
       "      <th>4</th>\n",
       "      <td>10</td>\n",
       "      <td>11</td>\n",
       "    </tr>\n",
       "    <tr>\n",
       "      <th>5</th>\n",
       "      <td>8</td>\n",
       "      <td>10</td>\n",
       "    </tr>\n",
       "    <tr>\n",
       "      <th>6</th>\n",
       "      <td>12</td>\n",
       "      <td>6</td>\n",
       "    </tr>\n",
       "    <tr>\n",
       "      <th>7</th>\n",
       "      <td>7</td>\n",
       "      <td>6</td>\n",
       "    </tr>\n",
       "    <tr>\n",
       "      <th>8</th>\n",
       "      <td>9</td>\n",
       "      <td>10</td>\n",
       "    </tr>\n",
       "    <tr>\n",
       "      <th>9</th>\n",
       "      <td>8</td>\n",
       "      <td>7</td>\n",
       "    </tr>\n",
       "    <tr>\n",
       "      <th>10</th>\n",
       "      <td>9</td>\n",
       "      <td>9</td>\n",
       "    </tr>\n",
       "    <tr>\n",
       "      <th>11</th>\n",
       "      <td>7</td>\n",
       "      <td>8</td>\n",
       "    </tr>\n",
       "    <tr>\n",
       "      <th>12</th>\n",
       "      <td>12</td>\n",
       "      <td>10</td>\n",
       "    </tr>\n",
       "    <tr>\n",
       "      <th>13</th>\n",
       "      <td>7</td>\n",
       "      <td>8</td>\n",
       "    </tr>\n",
       "    <tr>\n",
       "      <th>14</th>\n",
       "      <td>6</td>\n",
       "      <td>10</td>\n",
       "    </tr>\n",
       "    <tr>\n",
       "      <th>15</th>\n",
       "      <td>7</td>\n",
       "      <td>6</td>\n",
       "    </tr>\n",
       "    <tr>\n",
       "      <th>16</th>\n",
       "      <td>12</td>\n",
       "      <td>11</td>\n",
       "    </tr>\n",
       "    <tr>\n",
       "      <th>17</th>\n",
       "      <td>7</td>\n",
       "      <td>6</td>\n",
       "    </tr>\n",
       "    <tr>\n",
       "      <th>18</th>\n",
       "      <td>6</td>\n",
       "      <td>7</td>\n",
       "    </tr>\n",
       "    <tr>\n",
       "      <th>19</th>\n",
       "      <td>12</td>\n",
       "      <td>9</td>\n",
       "    </tr>\n",
       "  </tbody>\n",
       "</table>\n",
       "</div>"
      ],
      "text/plain": [
       "     a   d\n",
       "0   12   6\n",
       "1   11   7\n",
       "2   12   9\n",
       "3    8  12\n",
       "4   10  11\n",
       "5    8  10\n",
       "6   12   6\n",
       "7    7   6\n",
       "8    9  10\n",
       "9    8   7\n",
       "10   9   9\n",
       "11   7   8\n",
       "12  12  10\n",
       "13   7   8\n",
       "14   6  10\n",
       "15   7   6\n",
       "16  12  11\n",
       "17   7   6\n",
       "18   6   7\n",
       "19  12   9"
      ]
     },
     "execution_count": 13,
     "metadata": {},
     "output_type": "execute_result"
    }
   ],
   "source": [
    "B.as_data_frame()"
   ]
  },
  {
   "cell_type": "code",
   "execution_count": 14,
   "metadata": {},
   "outputs": [],
   "source": [
    "M=A.merge(B)"
   ]
  },
  {
   "cell_type": "code",
   "execution_count": 15,
   "metadata": {},
   "outputs": [
    {
     "data": {
      "text/html": [
       "<div>\n",
       "<style scoped>\n",
       "    .dataframe tbody tr th:only-of-type {\n",
       "        vertical-align: middle;\n",
       "    }\n",
       "\n",
       "    .dataframe tbody tr th {\n",
       "        vertical-align: top;\n",
       "    }\n",
       "\n",
       "    .dataframe thead th {\n",
       "        text-align: right;\n",
       "    }\n",
       "</style>\n",
       "<table border=\"1\" class=\"dataframe\">\n",
       "  <thead>\n",
       "    <tr style=\"text-align: right;\">\n",
       "      <th></th>\n",
       "      <th>a</th>\n",
       "      <th>b</th>\n",
       "      <th>c</th>\n",
       "      <th>d</th>\n",
       "    </tr>\n",
       "  </thead>\n",
       "  <tbody>\n",
       "    <tr>\n",
       "      <th>0</th>\n",
       "      <td>6</td>\n",
       "      <td>16</td>\n",
       "      <td>26</td>\n",
       "      <td>10</td>\n",
       "    </tr>\n",
       "    <tr>\n",
       "      <th>1</th>\n",
       "      <td>6</td>\n",
       "      <td>16</td>\n",
       "      <td>26</td>\n",
       "      <td>7</td>\n",
       "    </tr>\n",
       "    <tr>\n",
       "      <th>2</th>\n",
       "      <td>7</td>\n",
       "      <td>17</td>\n",
       "      <td>27</td>\n",
       "      <td>6</td>\n",
       "    </tr>\n",
       "    <tr>\n",
       "      <th>3</th>\n",
       "      <td>7</td>\n",
       "      <td>17</td>\n",
       "      <td>27</td>\n",
       "      <td>8</td>\n",
       "    </tr>\n",
       "    <tr>\n",
       "      <th>4</th>\n",
       "      <td>7</td>\n",
       "      <td>17</td>\n",
       "      <td>27</td>\n",
       "      <td>8</td>\n",
       "    </tr>\n",
       "    <tr>\n",
       "      <th>5</th>\n",
       "      <td>7</td>\n",
       "      <td>17</td>\n",
       "      <td>27</td>\n",
       "      <td>6</td>\n",
       "    </tr>\n",
       "    <tr>\n",
       "      <th>6</th>\n",
       "      <td>7</td>\n",
       "      <td>17</td>\n",
       "      <td>27</td>\n",
       "      <td>6</td>\n",
       "    </tr>\n",
       "    <tr>\n",
       "      <th>7</th>\n",
       "      <td>8</td>\n",
       "      <td>18</td>\n",
       "      <td>28</td>\n",
       "      <td>12</td>\n",
       "    </tr>\n",
       "    <tr>\n",
       "      <th>8</th>\n",
       "      <td>8</td>\n",
       "      <td>18</td>\n",
       "      <td>28</td>\n",
       "      <td>10</td>\n",
       "    </tr>\n",
       "    <tr>\n",
       "      <th>9</th>\n",
       "      <td>8</td>\n",
       "      <td>18</td>\n",
       "      <td>28</td>\n",
       "      <td>7</td>\n",
       "    </tr>\n",
       "    <tr>\n",
       "      <th>10</th>\n",
       "      <td>9</td>\n",
       "      <td>19</td>\n",
       "      <td>29</td>\n",
       "      <td>10</td>\n",
       "    </tr>\n",
       "    <tr>\n",
       "      <th>11</th>\n",
       "      <td>9</td>\n",
       "      <td>19</td>\n",
       "      <td>29</td>\n",
       "      <td>9</td>\n",
       "    </tr>\n",
       "    <tr>\n",
       "      <th>12</th>\n",
       "      <td>10</td>\n",
       "      <td>20</td>\n",
       "      <td>30</td>\n",
       "      <td>11</td>\n",
       "    </tr>\n",
       "  </tbody>\n",
       "</table>\n",
       "</div>"
      ],
      "text/plain": [
       "     a   b   c   d\n",
       "0    6  16  26  10\n",
       "1    6  16  26   7\n",
       "2    7  17  27   6\n",
       "3    7  17  27   8\n",
       "4    7  17  27   8\n",
       "5    7  17  27   6\n",
       "6    7  17  27   6\n",
       "7    8  18  28  12\n",
       "8    8  18  28  10\n",
       "9    8  18  28   7\n",
       "10   9  19  29  10\n",
       "11   9  19  29   9\n",
       "12  10  20  30  11"
      ]
     },
     "execution_count": 15,
     "metadata": {},
     "output_type": "execute_result"
    }
   ],
   "source": [
    "M.as_data_frame()"
   ]
  },
  {
   "cell_type": "code",
   "execution_count": 16,
   "metadata": {},
   "outputs": [],
   "source": [
    "M=B.merge(A)"
   ]
  },
  {
   "cell_type": "code",
   "execution_count": 17,
   "metadata": {},
   "outputs": [
    {
     "data": {
      "text/html": [
       "<div>\n",
       "<style scoped>\n",
       "    .dataframe tbody tr th:only-of-type {\n",
       "        vertical-align: middle;\n",
       "    }\n",
       "\n",
       "    .dataframe tbody tr th {\n",
       "        vertical-align: top;\n",
       "    }\n",
       "\n",
       "    .dataframe thead th {\n",
       "        text-align: right;\n",
       "    }\n",
       "</style>\n",
       "<table border=\"1\" class=\"dataframe\">\n",
       "  <thead>\n",
       "    <tr style=\"text-align: right;\">\n",
       "      <th></th>\n",
       "      <th>a</th>\n",
       "      <th>d</th>\n",
       "      <th>b</th>\n",
       "      <th>c</th>\n",
       "    </tr>\n",
       "  </thead>\n",
       "  <tbody>\n",
       "    <tr>\n",
       "      <th>0</th>\n",
       "      <td>6</td>\n",
       "      <td>10</td>\n",
       "      <td>16</td>\n",
       "      <td>26</td>\n",
       "    </tr>\n",
       "    <tr>\n",
       "      <th>1</th>\n",
       "      <td>6</td>\n",
       "      <td>7</td>\n",
       "      <td>16</td>\n",
       "      <td>26</td>\n",
       "    </tr>\n",
       "    <tr>\n",
       "      <th>2</th>\n",
       "      <td>7</td>\n",
       "      <td>6</td>\n",
       "      <td>17</td>\n",
       "      <td>27</td>\n",
       "    </tr>\n",
       "    <tr>\n",
       "      <th>3</th>\n",
       "      <td>7</td>\n",
       "      <td>8</td>\n",
       "      <td>17</td>\n",
       "      <td>27</td>\n",
       "    </tr>\n",
       "    <tr>\n",
       "      <th>4</th>\n",
       "      <td>7</td>\n",
       "      <td>8</td>\n",
       "      <td>17</td>\n",
       "      <td>27</td>\n",
       "    </tr>\n",
       "    <tr>\n",
       "      <th>5</th>\n",
       "      <td>7</td>\n",
       "      <td>6</td>\n",
       "      <td>17</td>\n",
       "      <td>27</td>\n",
       "    </tr>\n",
       "    <tr>\n",
       "      <th>6</th>\n",
       "      <td>7</td>\n",
       "      <td>6</td>\n",
       "      <td>17</td>\n",
       "      <td>27</td>\n",
       "    </tr>\n",
       "    <tr>\n",
       "      <th>7</th>\n",
       "      <td>8</td>\n",
       "      <td>12</td>\n",
       "      <td>18</td>\n",
       "      <td>28</td>\n",
       "    </tr>\n",
       "    <tr>\n",
       "      <th>8</th>\n",
       "      <td>8</td>\n",
       "      <td>10</td>\n",
       "      <td>18</td>\n",
       "      <td>28</td>\n",
       "    </tr>\n",
       "    <tr>\n",
       "      <th>9</th>\n",
       "      <td>8</td>\n",
       "      <td>7</td>\n",
       "      <td>18</td>\n",
       "      <td>28</td>\n",
       "    </tr>\n",
       "    <tr>\n",
       "      <th>10</th>\n",
       "      <td>9</td>\n",
       "      <td>10</td>\n",
       "      <td>19</td>\n",
       "      <td>29</td>\n",
       "    </tr>\n",
       "    <tr>\n",
       "      <th>11</th>\n",
       "      <td>9</td>\n",
       "      <td>9</td>\n",
       "      <td>19</td>\n",
       "      <td>29</td>\n",
       "    </tr>\n",
       "    <tr>\n",
       "      <th>12</th>\n",
       "      <td>10</td>\n",
       "      <td>11</td>\n",
       "      <td>20</td>\n",
       "      <td>30</td>\n",
       "    </tr>\n",
       "  </tbody>\n",
       "</table>\n",
       "</div>"
      ],
      "text/plain": [
       "     a   d   b   c\n",
       "0    6  10  16  26\n",
       "1    6   7  16  26\n",
       "2    7   6  17  27\n",
       "3    7   8  17  27\n",
       "4    7   8  17  27\n",
       "5    7   6  17  27\n",
       "6    7   6  17  27\n",
       "7    8  12  18  28\n",
       "8    8  10  18  28\n",
       "9    8   7  18  28\n",
       "10   9  10  19  29\n",
       "11   9   9  19  29\n",
       "12  10  11  20  30"
      ]
     },
     "execution_count": 17,
     "metadata": {},
     "output_type": "execute_result"
    }
   ],
   "source": [
    "M.as_data_frame()"
   ]
  },
  {
   "cell_type": "code",
   "execution_count": 24,
   "metadata": {},
   "outputs": [
    {
     "ename": "H2OValueError",
     "evalue": "Column: b not in frame.",
     "output_type": "error",
     "traceback": [
      "\u001b[1;31m---------------------------------------------------------------------------\u001b[0m",
      "\u001b[1;31mH2OValueError\u001b[0m                             Traceback (most recent call last)",
      "\u001b[1;32m<ipython-input-24-0071fc906651>\u001b[0m in \u001b[0;36m<module>\u001b[1;34m\u001b[0m\n\u001b[1;32m----> 1\u001b[1;33m \u001b[0mM\u001b[0m\u001b[1;33m=\u001b[0m\u001b[0mA\u001b[0m\u001b[1;33m.\u001b[0m\u001b[0mmerge\u001b[0m\u001b[1;33m(\u001b[0m\u001b[0mB\u001b[0m\u001b[1;33m,\u001b[0m \u001b[0mby_x\u001b[0m\u001b[1;33m=\u001b[0m\u001b[1;33m[\u001b[0m\u001b[1;34m\"b\"\u001b[0m\u001b[1;33m]\u001b[0m\u001b[1;33m,\u001b[0m\u001b[0mby_y\u001b[0m\u001b[1;33m=\u001b[0m\u001b[1;33m[\u001b[0m\u001b[1;34m\"b\"\u001b[0m\u001b[1;33m]\u001b[0m\u001b[1;33m)\u001b[0m\u001b[1;33m\u001b[0m\u001b[1;33m\u001b[0m\u001b[0m\n\u001b[0m",
      "\u001b[1;32m~\\AppData\\Roaming\\Python\\Python37\\site-packages\\h2o\\frame.py\u001b[0m in \u001b[0;36mmerge\u001b[1;34m(self, other, all_x, all_y, by_x, by_y, method)\u001b[0m\n\u001b[0;32m   1970\u001b[0m             \u001b[0mby_y\u001b[0m \u001b[1;33m=\u001b[0m \u001b[1;33m[\u001b[0m\u001b[0mother\u001b[0m\u001b[1;33m.\u001b[0m\u001b[0mnames\u001b[0m\u001b[1;33m.\u001b[0m\u001b[0mindex\u001b[0m\u001b[1;33m(\u001b[0m\u001b[0mc\u001b[0m\u001b[1;33m)\u001b[0m \u001b[1;32mfor\u001b[0m \u001b[0mc\u001b[0m \u001b[1;32min\u001b[0m \u001b[0mcommon_names\u001b[0m\u001b[1;33m]\u001b[0m\u001b[1;33m\u001b[0m\u001b[1;33m\u001b[0m\u001b[0m\n\u001b[0;32m   1971\u001b[0m         \u001b[1;32melse\u001b[0m\u001b[1;33m:\u001b[0m\u001b[1;33m\u001b[0m\u001b[1;33m\u001b[0m\u001b[0m\n\u001b[1;32m-> 1972\u001b[1;33m             \u001b[0mby_y\u001b[0m \u001b[1;33m=\u001b[0m \u001b[0m_getValidCols\u001b[0m\u001b[1;33m(\u001b[0m\u001b[0mby_y\u001b[0m\u001b[1;33m,\u001b[0m\u001b[0mother\u001b[0m\u001b[1;33m)\u001b[0m\u001b[1;33m\u001b[0m\u001b[1;33m\u001b[0m\u001b[0m\n\u001b[0m\u001b[0;32m   1973\u001b[0m \u001b[1;33m\u001b[0m\u001b[0m\n\u001b[0;32m   1974\u001b[0m \u001b[1;33m\u001b[0m\u001b[0m\n",
      "\u001b[1;32m~\\AppData\\Roaming\\Python\\Python37\\site-packages\\h2o\\frame.py\u001b[0m in \u001b[0;36m_getValidCols\u001b[1;34m(by_idx, fr)\u001b[0m\n\u001b[0;32m   3414\u001b[0m         \u001b[1;32mif\u001b[0m \u001b[0mtype\u001b[0m\u001b[1;33m(\u001b[0m\u001b[0mi\u001b[0m\u001b[1;33m)\u001b[0m \u001b[1;33m==\u001b[0m \u001b[0mstr\u001b[0m\u001b[1;33m:\u001b[0m\u001b[1;33m\u001b[0m\u001b[1;33m\u001b[0m\u001b[0m\n\u001b[0;32m   3415\u001b[0m             \u001b[1;32mif\u001b[0m \u001b[0mi\u001b[0m \u001b[1;32mnot\u001b[0m \u001b[1;32min\u001b[0m \u001b[0mfr\u001b[0m\u001b[1;33m.\u001b[0m\u001b[0mnames\u001b[0m\u001b[1;33m:\u001b[0m\u001b[1;33m\u001b[0m\u001b[1;33m\u001b[0m\u001b[0m\n\u001b[1;32m-> 3416\u001b[1;33m                 \u001b[1;32mraise\u001b[0m \u001b[0mH2OValueError\u001b[0m\u001b[1;33m(\u001b[0m\u001b[1;34m\"Column: \"\u001b[0m \u001b[1;33m+\u001b[0m \u001b[0mi\u001b[0m \u001b[1;33m+\u001b[0m \u001b[1;34m\" not in frame.\"\u001b[0m\u001b[1;33m)\u001b[0m\u001b[1;33m\u001b[0m\u001b[1;33m\u001b[0m\u001b[0m\n\u001b[0m\u001b[0;32m   3417\u001b[0m             \u001b[0mtmp\u001b[0m\u001b[1;33m.\u001b[0m\u001b[0mappend\u001b[0m\u001b[1;33m(\u001b[0m\u001b[0mfr\u001b[0m\u001b[1;33m.\u001b[0m\u001b[0mnames\u001b[0m\u001b[1;33m.\u001b[0m\u001b[0mindex\u001b[0m\u001b[1;33m(\u001b[0m\u001b[0mi\u001b[0m\u001b[1;33m)\u001b[0m\u001b[1;33m)\u001b[0m\u001b[1;33m\u001b[0m\u001b[1;33m\u001b[0m\u001b[0m\n\u001b[0;32m   3418\u001b[0m         \u001b[1;32melif\u001b[0m \u001b[0mtype\u001b[0m\u001b[1;33m(\u001b[0m\u001b[0mi\u001b[0m\u001b[1;33m)\u001b[0m \u001b[1;33m!=\u001b[0m \u001b[0mint\u001b[0m\u001b[1;33m:\u001b[0m\u001b[1;33m\u001b[0m\u001b[1;33m\u001b[0m\u001b[0m\n",
      "\u001b[1;31mH2OValueError\u001b[0m: Column: b not in frame."
     ]
    }
   ],
   "source": [
    "M=A.merge(B, by_x=[\"b\"],by_y=[\"b\"])"
   ]
  },
  {
   "cell_type": "code",
   "execution_count": 23,
   "metadata": {},
   "outputs": [
    {
     "data": {
      "text/html": [
       "<div>\n",
       "<style scoped>\n",
       "    .dataframe tbody tr th:only-of-type {\n",
       "        vertical-align: middle;\n",
       "    }\n",
       "\n",
       "    .dataframe tbody tr th {\n",
       "        vertical-align: top;\n",
       "    }\n",
       "\n",
       "    .dataframe thead th {\n",
       "        text-align: right;\n",
       "    }\n",
       "</style>\n",
       "<table border=\"1\" class=\"dataframe\">\n",
       "  <thead>\n",
       "    <tr style=\"text-align: right;\">\n",
       "      <th></th>\n",
       "      <th>a</th>\n",
       "      <th>d</th>\n",
       "      <th>b</th>\n",
       "      <th>c</th>\n",
       "    </tr>\n",
       "  </thead>\n",
       "  <tbody>\n",
       "    <tr>\n",
       "      <th>0</th>\n",
       "      <td>6</td>\n",
       "      <td>10</td>\n",
       "      <td>16</td>\n",
       "      <td>26</td>\n",
       "    </tr>\n",
       "    <tr>\n",
       "      <th>1</th>\n",
       "      <td>6</td>\n",
       "      <td>7</td>\n",
       "      <td>16</td>\n",
       "      <td>26</td>\n",
       "    </tr>\n",
       "    <tr>\n",
       "      <th>2</th>\n",
       "      <td>7</td>\n",
       "      <td>6</td>\n",
       "      <td>17</td>\n",
       "      <td>27</td>\n",
       "    </tr>\n",
       "    <tr>\n",
       "      <th>3</th>\n",
       "      <td>7</td>\n",
       "      <td>8</td>\n",
       "      <td>17</td>\n",
       "      <td>27</td>\n",
       "    </tr>\n",
       "    <tr>\n",
       "      <th>4</th>\n",
       "      <td>7</td>\n",
       "      <td>8</td>\n",
       "      <td>17</td>\n",
       "      <td>27</td>\n",
       "    </tr>\n",
       "    <tr>\n",
       "      <th>5</th>\n",
       "      <td>7</td>\n",
       "      <td>6</td>\n",
       "      <td>17</td>\n",
       "      <td>27</td>\n",
       "    </tr>\n",
       "    <tr>\n",
       "      <th>6</th>\n",
       "      <td>7</td>\n",
       "      <td>6</td>\n",
       "      <td>17</td>\n",
       "      <td>27</td>\n",
       "    </tr>\n",
       "    <tr>\n",
       "      <th>7</th>\n",
       "      <td>8</td>\n",
       "      <td>12</td>\n",
       "      <td>18</td>\n",
       "      <td>28</td>\n",
       "    </tr>\n",
       "    <tr>\n",
       "      <th>8</th>\n",
       "      <td>8</td>\n",
       "      <td>10</td>\n",
       "      <td>18</td>\n",
       "      <td>28</td>\n",
       "    </tr>\n",
       "    <tr>\n",
       "      <th>9</th>\n",
       "      <td>8</td>\n",
       "      <td>7</td>\n",
       "      <td>18</td>\n",
       "      <td>28</td>\n",
       "    </tr>\n",
       "    <tr>\n",
       "      <th>10</th>\n",
       "      <td>9</td>\n",
       "      <td>10</td>\n",
       "      <td>19</td>\n",
       "      <td>29</td>\n",
       "    </tr>\n",
       "    <tr>\n",
       "      <th>11</th>\n",
       "      <td>9</td>\n",
       "      <td>9</td>\n",
       "      <td>19</td>\n",
       "      <td>29</td>\n",
       "    </tr>\n",
       "    <tr>\n",
       "      <th>12</th>\n",
       "      <td>10</td>\n",
       "      <td>11</td>\n",
       "      <td>20</td>\n",
       "      <td>30</td>\n",
       "    </tr>\n",
       "  </tbody>\n",
       "</table>\n",
       "</div>"
      ],
      "text/plain": [
       "     a   d   b   c\n",
       "0    6  10  16  26\n",
       "1    6   7  16  26\n",
       "2    7   6  17  27\n",
       "3    7   8  17  27\n",
       "4    7   8  17  27\n",
       "5    7   6  17  27\n",
       "6    7   6  17  27\n",
       "7    8  12  18  28\n",
       "8    8  10  18  28\n",
       "9    8   7  18  28\n",
       "10   9  10  19  29\n",
       "11   9   9  19  29\n",
       "12  10  11  20  30"
      ]
     },
     "execution_count": 23,
     "metadata": {},
     "output_type": "execute_result"
    }
   ],
   "source": [
    "M.as_data_frame()"
   ]
  },
  {
   "cell_type": "code",
   "execution_count": null,
   "metadata": {},
   "outputs": [],
   "source": []
  },
  {
   "cell_type": "code",
   "execution_count": null,
   "metadata": {},
   "outputs": [],
   "source": []
  },
  {
   "cell_type": "code",
   "execution_count": null,
   "metadata": {},
   "outputs": [],
   "source": []
  },
  {
   "cell_type": "code",
   "execution_count": null,
   "metadata": {},
   "outputs": [],
   "source": []
  },
  {
   "cell_type": "code",
   "execution_count": null,
   "metadata": {},
   "outputs": [],
   "source": []
  },
  {
   "cell_type": "code",
   "execution_count": 7,
   "metadata": {},
   "outputs": [
    {
     "name": "stdout",
     "output_type": "stream",
     "text": [
      "Parse progress: |█████████████████████████████████████████████████████████| 100%\n"
     ]
    }
   ],
   "source": [
    "data=h2o.import_file(\"https://github.com/h2oai/h2o-2/raw/master/smalldata/airlines/allyears2k_headers.zip\")"
   ]
  },
  {
   "cell_type": "code",
   "execution_count": 8,
   "metadata": {},
   "outputs": [],
   "source": [
    "train,valid,test = data.split_frame([0.8,0.1], seed=69)"
   ]
  },
  {
   "cell_type": "code",
   "execution_count": 9,
   "metadata": {},
   "outputs": [
    {
     "name": "stdout",
     "output_type": "stream",
     "text": [
      "35255/4272/4451\n"
     ]
    }
   ],
   "source": [
    "print(\"%d/%d/%d\" % (train.nrows,valid.nrows,test.nrows))"
   ]
  },
  {
   "cell_type": "code",
   "execution_count": 10,
   "metadata": {},
   "outputs": [
    {
     "data": {
      "text/html": [
       "<table>\n",
       "<thead>\n",
       "<tr><th>       </th><th>Year              </th><th>Month             </th><th>DayofMonth        </th><th>DayOfWeek         </th><th>DepTime          </th><th>CRSDepTime        </th><th>ArrTime          </th><th>CRSArrTime        </th><th>UniqueCarrier  </th><th>FlightNum        </th><th>TailNum  </th><th>ActualElapsedTime  </th><th>CRSElapsedTime    </th><th>AirTime           </th><th>ArrDelay          </th><th>DepDelay          </th><th>Origin  </th><th>Dest  </th><th>Distance         </th><th>TaxiIn           </th><th>TaxiOut          </th><th>Cancelled           </th><th>CancellationCode  </th><th>Diverted             </th><th>CarrierDelay     </th><th>WeatherDelay      </th><th>NASDelay          </th><th>SecurityDelay     </th><th>LateAircraftDelay  </th><th>IsArrDelayed  </th><th>IsDepDelayed  </th></tr>\n",
       "</thead>\n",
       "<tbody>\n",
       "<tr><td>type   </td><td>int               </td><td>int               </td><td>int               </td><td>int               </td><td>int              </td><td>int               </td><td>int              </td><td>int               </td><td>enum           </td><td>int              </td><td>enum     </td><td>int                </td><td>int               </td><td>int               </td><td>int               </td><td>int               </td><td>enum    </td><td>enum  </td><td>int              </td><td>int              </td><td>int              </td><td>int                 </td><td>enum              </td><td>int                  </td><td>int              </td><td>int               </td><td>int               </td><td>int               </td><td>int                </td><td>enum          </td><td>enum          </td></tr>\n",
       "<tr><td>mins   </td><td>1987.0            </td><td>1.0               </td><td>1.0               </td><td>1.0               </td><td>1.0              </td><td>0.0               </td><td>1.0              </td><td>0.0               </td><td>               </td><td>1.0              </td><td>         </td><td>16.0               </td><td>17.0              </td><td>14.0              </td><td>-63.0             </td><td>-16.0             </td><td>        </td><td>      </td><td>11.0             </td><td>0.0              </td><td>0.0              </td><td>0.0                 </td><td>                  </td><td>0.0                  </td><td>0.0              </td><td>0.0               </td><td>0.0               </td><td>0.0               </td><td>0.0                </td><td>              </td><td>              </td></tr>\n",
       "<tr><td>mean   </td><td>1997.5000000000068</td><td>1.409090909090916 </td><td>14.601073263904551</td><td>3.8206148528809845</td><td>1345.846661382077</td><td>1313.2228614307262</td><td>1504.634130378886</td><td>1485.2891673109345</td><td>               </td><td>818.8429896766576</td><td>         </td><td>124.8145291354039  </td><td>125.02156260661906</td><td>114.31611109078231</td><td>9.317111936984306 </td><td>10.007390655600112</td><td>        </td><td>      </td><td>730.1821905650557</td><td>5.381368059530588</td><td>14.16863418473208</td><td>0.024694165264450407</td><td>                  </td><td>0.0024785119832643593</td><td>4.047800291055639</td><td>0.2893764692712412</td><td>4.8550319041755365</td><td>0.0170155602821001</td><td>7.620060450016796  </td><td>              </td><td>              </td></tr>\n",
       "<tr><td>maxs   </td><td>2008.0            </td><td>10.0              </td><td>31.0              </td><td>7.0               </td><td>2400.0           </td><td>2359.0            </td><td>2400.0           </td><td>2359.0            </td><td>               </td><td>3949.0           </td><td>         </td><td>475.0              </td><td>437.0             </td><td>402.0             </td><td>475.0             </td><td>473.0             </td><td>        </td><td>      </td><td>3365.0           </td><td>128.0            </td><td>254.0            </td><td>1.0                 </td><td>                  </td><td>1.0                  </td><td>369.0            </td><td>201.0             </td><td>323.0             </td><td>14.0              </td><td>373.0              </td><td>              </td><td>              </td></tr>\n",
       "<tr><td>sigma  </td><td>6.344360901707349 </td><td>1.8747113713439618</td><td>9.175790425861413 </td><td>1.9050131191329014</td><td>465.3408991242322</td><td>476.2511399926005 </td><td>484.3474879035152</td><td>492.75043412270105</td><td>               </td><td>777.4043691636341</td><td>         </td><td>73.97444166059017  </td><td>73.40159463000951 </td><td>69.6363295150612  </td><td>29.840221962414837</td><td>26.438809042916418</td><td>        </td><td>      </td><td>578.4380082304235</td><td>4.201979939864826</td><td>9.905085747204279</td><td>0.15519314135784237 </td><td>                  </td><td>0.049723487218862286 </td><td>16.2057299044842 </td><td>4.416779898734125 </td><td>18.619776221475654</td><td>0.403940182101512 </td><td>23.48756587410621  </td><td>              </td><td>              </td></tr>\n",
       "<tr><td>zeros  </td><td>0                 </td><td>0                 </td><td>0                 </td><td>0                 </td><td>0                </td><td>569               </td><td>0                </td><td>569               </td><td>               </td><td>0                </td><td>         </td><td>0                  </td><td>0                 </td><td>0                 </td><td>1514              </td><td>6393              </td><td>        </td><td>      </td><td>0                </td><td>623              </td><td>557              </td><td>42892               </td><td>                  </td><td>43869                </td><td>7344             </td><td>8840              </td><td>7388              </td><td>8914              </td><td>7140               </td><td>              </td><td>              </td></tr>\n",
       "<tr><td>missing</td><td>0                 </td><td>0                 </td><td>0                 </td><td>0                 </td><td>1086             </td><td>0                 </td><td>1195             </td><td>0                 </td><td>0              </td><td>0                </td><td>32       </td><td>1195               </td><td>13                </td><td>16649             </td><td>1195              </td><td>1086              </td><td>0       </td><td>0     </td><td>35               </td><td>16026            </td><td>16024            </td><td>0                   </td><td>9774              </td><td>0                    </td><td>35045            </td><td>35045             </td><td>35045             </td><td>35045             </td><td>35045              </td><td>0             </td><td>0             </td></tr>\n",
       "<tr><td>0      </td><td>1987.0            </td><td>10.0              </td><td>14.0              </td><td>3.0               </td><td>741.0            </td><td>730.0             </td><td>912.0            </td><td>849.0             </td><td>PS             </td><td>1451.0           </td><td>NA       </td><td>91.0               </td><td>79.0              </td><td>nan               </td><td>23.0              </td><td>11.0              </td><td>SAN     </td><td>SFO   </td><td>447.0            </td><td>nan              </td><td>nan              </td><td>0.0                 </td><td>NA                </td><td>0.0                  </td><td>nan              </td><td>nan               </td><td>nan               </td><td>nan               </td><td>nan                </td><td>YES           </td><td>YES           </td></tr>\n",
       "<tr><td>1      </td><td>1987.0            </td><td>10.0              </td><td>15.0              </td><td>4.0               </td><td>729.0            </td><td>730.0             </td><td>903.0            </td><td>849.0             </td><td>PS             </td><td>1451.0           </td><td>NA       </td><td>94.0               </td><td>79.0              </td><td>nan               </td><td>14.0              </td><td>-1.0              </td><td>SAN     </td><td>SFO   </td><td>447.0            </td><td>nan              </td><td>nan              </td><td>0.0                 </td><td>NA                </td><td>0.0                  </td><td>nan              </td><td>nan               </td><td>nan               </td><td>nan               </td><td>nan                </td><td>YES           </td><td>NO            </td></tr>\n",
       "<tr><td>2      </td><td>1987.0            </td><td>10.0              </td><td>17.0              </td><td>6.0               </td><td>741.0            </td><td>730.0             </td><td>918.0            </td><td>849.0             </td><td>PS             </td><td>1451.0           </td><td>NA       </td><td>97.0               </td><td>79.0              </td><td>nan               </td><td>29.0              </td><td>11.0              </td><td>SAN     </td><td>SFO   </td><td>447.0            </td><td>nan              </td><td>nan              </td><td>0.0                 </td><td>NA                </td><td>0.0                  </td><td>nan              </td><td>nan               </td><td>nan               </td><td>nan               </td><td>nan                </td><td>YES           </td><td>YES           </td></tr>\n",
       "<tr><td>3      </td><td>1987.0            </td><td>10.0              </td><td>18.0              </td><td>7.0               </td><td>729.0            </td><td>730.0             </td><td>847.0            </td><td>849.0             </td><td>PS             </td><td>1451.0           </td><td>NA       </td><td>78.0               </td><td>79.0              </td><td>nan               </td><td>-2.0              </td><td>-1.0              </td><td>SAN     </td><td>SFO   </td><td>447.0            </td><td>nan              </td><td>nan              </td><td>0.0                 </td><td>NA                </td><td>0.0                  </td><td>nan              </td><td>nan               </td><td>nan               </td><td>nan               </td><td>nan                </td><td>NO            </td><td>NO            </td></tr>\n",
       "<tr><td>4      </td><td>1987.0            </td><td>10.0              </td><td>19.0              </td><td>1.0               </td><td>749.0            </td><td>730.0             </td><td>922.0            </td><td>849.0             </td><td>PS             </td><td>1451.0           </td><td>NA       </td><td>93.0               </td><td>79.0              </td><td>nan               </td><td>33.0              </td><td>19.0              </td><td>SAN     </td><td>SFO   </td><td>447.0            </td><td>nan              </td><td>nan              </td><td>0.0                 </td><td>NA                </td><td>0.0                  </td><td>nan              </td><td>nan               </td><td>nan               </td><td>nan               </td><td>nan                </td><td>YES           </td><td>YES           </td></tr>\n",
       "<tr><td>5      </td><td>1987.0            </td><td>10.0              </td><td>21.0              </td><td>3.0               </td><td>728.0            </td><td>730.0             </td><td>848.0            </td><td>849.0             </td><td>PS             </td><td>1451.0           </td><td>NA       </td><td>80.0               </td><td>79.0              </td><td>nan               </td><td>-1.0              </td><td>-2.0              </td><td>SAN     </td><td>SFO   </td><td>447.0            </td><td>nan              </td><td>nan              </td><td>0.0                 </td><td>NA                </td><td>0.0                  </td><td>nan              </td><td>nan               </td><td>nan               </td><td>nan               </td><td>nan                </td><td>NO            </td><td>NO            </td></tr>\n",
       "<tr><td>6      </td><td>1987.0            </td><td>10.0              </td><td>22.0              </td><td>4.0               </td><td>728.0            </td><td>730.0             </td><td>852.0            </td><td>849.0             </td><td>PS             </td><td>1451.0           </td><td>NA       </td><td>84.0               </td><td>79.0              </td><td>nan               </td><td>3.0               </td><td>-2.0              </td><td>SAN     </td><td>SFO   </td><td>447.0            </td><td>nan              </td><td>nan              </td><td>0.0                 </td><td>NA                </td><td>0.0                  </td><td>nan              </td><td>nan               </td><td>nan               </td><td>nan               </td><td>nan                </td><td>YES           </td><td>NO            </td></tr>\n",
       "<tr><td>7      </td><td>1987.0            </td><td>10.0              </td><td>23.0              </td><td>5.0               </td><td>731.0            </td><td>730.0             </td><td>902.0            </td><td>849.0             </td><td>PS             </td><td>1451.0           </td><td>NA       </td><td>91.0               </td><td>79.0              </td><td>nan               </td><td>13.0              </td><td>1.0               </td><td>SAN     </td><td>SFO   </td><td>447.0            </td><td>nan              </td><td>nan              </td><td>0.0                 </td><td>NA                </td><td>0.0                  </td><td>nan              </td><td>nan               </td><td>nan               </td><td>nan               </td><td>nan                </td><td>YES           </td><td>YES           </td></tr>\n",
       "<tr><td>8      </td><td>1987.0            </td><td>10.0              </td><td>24.0              </td><td>6.0               </td><td>744.0            </td><td>730.0             </td><td>908.0            </td><td>849.0             </td><td>PS             </td><td>1451.0           </td><td>NA       </td><td>84.0               </td><td>79.0              </td><td>nan               </td><td>19.0              </td><td>14.0              </td><td>SAN     </td><td>SFO   </td><td>447.0            </td><td>nan              </td><td>nan              </td><td>0.0                 </td><td>NA                </td><td>0.0                  </td><td>nan              </td><td>nan               </td><td>nan               </td><td>nan               </td><td>nan                </td><td>YES           </td><td>YES           </td></tr>\n",
       "<tr><td>9      </td><td>1987.0            </td><td>10.0              </td><td>25.0              </td><td>7.0               </td><td>729.0            </td><td>730.0             </td><td>851.0            </td><td>849.0             </td><td>PS             </td><td>1451.0           </td><td>NA       </td><td>82.0               </td><td>79.0              </td><td>nan               </td><td>2.0               </td><td>-1.0              </td><td>SAN     </td><td>SFO   </td><td>447.0            </td><td>nan              </td><td>nan              </td><td>0.0                 </td><td>NA                </td><td>0.0                  </td><td>nan              </td><td>nan               </td><td>nan               </td><td>nan               </td><td>nan                </td><td>YES           </td><td>NO            </td></tr>\n",
       "</tbody>\n",
       "</table>"
      ]
     },
     "metadata": {},
     "output_type": "display_data"
    }
   ],
   "source": [
    "data.summary()"
   ]
  },
  {
   "cell_type": "code",
   "execution_count": 11,
   "metadata": {},
   "outputs": [],
   "source": [
    "y=\"IsArrDelayed\"\n",
    "ignoreFields= [\n",
    "    \"ArrDelay\" ,\"DepDelay\",\"CarrierDelay\",\"WearherDelay\",\"NASDelay\",\"SecurityDelayed\",\"LateAircraftDelay\",\"IsDepDelayed\"\n",
    "    \"IsArrDelayed\" ,\"ActualElapsedTime\"\n",
    "]\n",
    "xAll=[i for i in train.names if i not in ignoreFields] #indpendent Varilbles\n",
    "xLikely=[\"Month\",\"DayOfWeek\",\"UniqueCarrier\",\"Origin\",\"Dest\",\"Distance\",\"Cancelled\",\"Diverted\"]"
   ]
  },
  {
   "cell_type": "code",
   "execution_count": 12,
   "metadata": {},
   "outputs": [],
   "source": [
    "from h2o.estimators.glm import H2OGeneralizedLinearEstimator"
   ]
  },
  {
   "cell_type": "code",
   "execution_count": 13,
   "metadata": {},
   "outputs": [
    {
     "name": "stdout",
     "output_type": "stream",
     "text": [
      "glm Model Build progress: |███████████████████████████████████████████████| 100%\n"
     ]
    }
   ],
   "source": [
    "m_def= H2OGeneralizedLinearEstimator(\n",
    "family= \"binomial\",)\n",
    "m_def.train(xAll,y,train,\n",
    "            validation_frame=valid\n",
    "           \n",
    "           )"
   ]
  },
  {
   "cell_type": "code",
   "execution_count": 14,
   "metadata": {},
   "outputs": [
    {
     "data": {
      "text/plain": [
       "0.5414570563193009"
      ]
     },
     "execution_count": 14,
     "metadata": {},
     "output_type": "execute_result"
    }
   ],
   "source": [
    "m_def.logloss(valid=True) "
   ]
  },
  {
   "cell_type": "code",
   "execution_count": 16,
   "metadata": {},
   "outputs": [
    {
     "name": "stdout",
     "output_type": "stream",
     "text": [
      "glm Grid Build progress: |████████████████████████████████████████████████| 100%\n"
     ]
    }
   ],
   "source": [
    "# Creating Random Grid \n",
    "g=h2o.grid.H2OGridSearch(\n",
    "H2OGeneralizedLinearEstimator(\n",
    "    family=\"binomial\",\n",
    "     lambda_search=True\n",
    "),\n",
    "hyper_params={\n",
    "    \"alpha\":[x*0.01 for x in range(0,100)], ## creating 100 alphe of alpha\n",
    "},\n",
    "search_criteria={\n",
    "    \"strategy\":\"RandomDiscrete\", ## to preform random search\n",
    "    \"max_models\":8, ## choese 8 bof the 100 apha value randomally \n",
    "    \"max_runtime_secs\": 30 ## give up if it cant finish wothin 30 sec\n",
    "}\n",
    ")\n",
    "g.train(xAll,y, train, validation_frame=valid)"
   ]
  },
  {
   "cell_type": "code",
   "execution_count": 17,
   "metadata": {},
   "outputs": [
    {
     "name": "stdout",
     "output_type": "stream",
     "text": [
      "                     alpha  \\\n",
      "0                   [0.79]   \n",
      "1                   [0.66]   \n",
      "2                   [0.54]   \n",
      "3                   [0.45]   \n",
      "4    [0.41000000000000003]   \n",
      "5                   [0.31]   \n",
      "6                   [0.05]   \n",
      "\n",
      "                                                     model_ids  \\\n",
      "0  Grid_GLM_py_3_sid_922e_model_python_1561574480156_7_model_3   \n",
      "1  Grid_GLM_py_3_sid_922e_model_python_1561574480156_7_model_5   \n",
      "2  Grid_GLM_py_3_sid_922e_model_python_1561574480156_7_model_1   \n",
      "3  Grid_GLM_py_3_sid_922e_model_python_1561574480156_7_model_6   \n",
      "4  Grid_GLM_py_3_sid_922e_model_python_1561574480156_7_model_2   \n",
      "5  Grid_GLM_py_3_sid_922e_model_python_1561574480156_7_model_4   \n",
      "6  Grid_GLM_py_3_sid_922e_model_python_1561574480156_7_model_7   \n",
      "\n",
      "              logloss  \n",
      "0  0.5052861216113229  \n",
      "1  0.5061070445299555  \n",
      "2  0.5071542790449769  \n",
      "3  0.5082088633489587  \n",
      "4  0.5087792221319967  \n",
      "5  0.5106187989754452  \n",
      "6  0.5783981503964728  \n"
     ]
    },
    {
     "data": {
      "text/plain": []
     },
     "execution_count": 17,
     "metadata": {},
     "output_type": "execute_result"
    }
   ],
   "source": [
    "g"
   ]
  },
  {
   "cell_type": "code",
   "execution_count": 19,
   "metadata": {},
   "outputs": [
    {
     "name": "stdout",
     "output_type": "stream",
     "text": [
      "glm Grid Build progress: |████████████████████████████████████████████████| 100%\n"
     ]
    }
   ],
   "source": [
    "# Creating Random Grid \n",
    "g2=h2o.grid.H2OGridSearch(\n",
    "H2OGeneralizedLinearEstimator(\n",
    "    family=\"binomial\",\n",
    "     lambda_search=True\n",
    "),\n",
    "hyper_params={\n",
    "    \"alpha\":[0,0.2,0.4,0.5,0.6,0.8,0.99], ## creating  alphe of alpha\n",
    "},\n",
    "search_criteria={\n",
    "    \"strategy\":\"Cartesian\", ## to preform random search\n",
    " \n",
    "}\n",
    ")\n",
    "g2.train(xAll,y, train, validation_frame=valid)"
   ]
  },
  {
   "cell_type": "code",
   "execution_count": 20,
   "metadata": {},
   "outputs": [
    {
     "name": "stdout",
     "output_type": "stream",
     "text": [
      "      alpha                                                     model_ids  \\\n",
      "0     [0.0]  Grid_GLM_py_3_sid_922e_model_python_1561574480156_37_model_1   \n",
      "1    [0.99]  Grid_GLM_py_3_sid_922e_model_python_1561574480156_37_model_7   \n",
      "2     [0.8]  Grid_GLM_py_3_sid_922e_model_python_1561574480156_37_model_6   \n",
      "3     [0.6]  Grid_GLM_py_3_sid_922e_model_python_1561574480156_37_model_5   \n",
      "4     [0.5]  Grid_GLM_py_3_sid_922e_model_python_1561574480156_37_model_4   \n",
      "5     [0.4]  Grid_GLM_py_3_sid_922e_model_python_1561574480156_37_model_3   \n",
      "6     [0.2]  Grid_GLM_py_3_sid_922e_model_python_1561574480156_37_model_2   \n",
      "\n",
      "               logloss  \n",
      "0  0.49677645018605104  \n",
      "1   0.5043586051654199  \n",
      "2    0.505231410096494  \n",
      "3   0.5065828773573847  \n",
      "4   0.5075887933823707  \n",
      "5   0.5089344572954909  \n",
      "6   0.5139497154231619  \n"
     ]
    },
    {
     "data": {
      "text/plain": []
     },
     "execution_count": 20,
     "metadata": {},
     "output_type": "execute_result"
    }
   ],
   "source": [
    "g2"
   ]
  }
 ],
 "metadata": {
  "kernelspec": {
   "display_name": "Python 3",
   "language": "python",
   "name": "python3"
  },
  "language_info": {
   "codemirror_mode": {
    "name": "ipython",
    "version": 3
   },
   "file_extension": ".py",
   "mimetype": "text/x-python",
   "name": "python",
   "nbconvert_exporter": "python",
   "pygments_lexer": "ipython3",
   "version": "3.7.3"
  }
 },
 "nbformat": 4,
 "nbformat_minor": 2
}
