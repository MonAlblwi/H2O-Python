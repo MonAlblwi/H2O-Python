{
 "cells": [
  {
   "cell_type": "code",
   "execution_count": 1,
   "metadata": {},
   "outputs": [],
   "source": [
    "import h2o"
   ]
  },
  {
   "cell_type": "code",
   "execution_count": 2,
   "metadata": {},
   "outputs": [
    {
     "name": "stdout",
     "output_type": "stream",
     "text": [
      "Checking whether there is an H2O instance running at http://localhost:54321 ..... not found.\n",
      "Attempting to start a local H2O server...\n",
      "; Java HotSpot(TM) 64-Bit Server VM (build 25.211-b12, mixed mode)\n",
      "  Starting server from C:\\Users\\malbalawi\\AppData\\Roaming\\Python\\Python37\\site-packages\\h2o\\backend\\bin\\h2o.jar\n",
      "  Ice root: C:\\Users\\malbalawi\\AppData\\Local\\Temp\\1\\tmpvlz1om8z\n",
      "  JVM stdout: C:\\Users\\malbalawi\\AppData\\Local\\Temp\\1\\tmpvlz1om8z\\h2o_malbalawi_started_from_python.out\n",
      "  JVM stderr: C:\\Users\\malbalawi\\AppData\\Local\\Temp\\1\\tmpvlz1om8z\\h2o_malbalawi_started_from_python.err\n",
      "  Server is running at http://127.0.0.1:54321\n",
      "Connecting to H2O server at http://127.0.0.1:54321 ... successful.\n"
     ]
    },
    {
     "data": {
      "text/html": [
       "<div style=\"overflow:auto\"><table style=\"width:50%\"><tr><td>H2O cluster uptime:</td>\n",
       "<td>07 secs</td></tr>\n",
       "<tr><td>H2O cluster timezone:</td>\n",
       "<td>America/Chicago</td></tr>\n",
       "<tr><td>H2O data parsing timezone:</td>\n",
       "<td>UTC</td></tr>\n",
       "<tr><td>H2O cluster version:</td>\n",
       "<td>3.24.0.4</td></tr>\n",
       "<tr><td>H2O cluster version age:</td>\n",
       "<td>24 days </td></tr>\n",
       "<tr><td>H2O cluster name:</td>\n",
       "<td>H2O_from_python_malbalawi_0euhae</td></tr>\n",
       "<tr><td>H2O cluster total nodes:</td>\n",
       "<td>1</td></tr>\n",
       "<tr><td>H2O cluster free memory:</td>\n",
       "<td>1.653 Gb</td></tr>\n",
       "<tr><td>H2O cluster total cores:</td>\n",
       "<td>4</td></tr>\n",
       "<tr><td>H2O cluster allowed cores:</td>\n",
       "<td>4</td></tr>\n",
       "<tr><td>H2O cluster status:</td>\n",
       "<td>accepting new members, healthy</td></tr>\n",
       "<tr><td>H2O connection url:</td>\n",
       "<td>http://127.0.0.1:54321</td></tr>\n",
       "<tr><td>H2O connection proxy:</td>\n",
       "<td>None</td></tr>\n",
       "<tr><td>H2O internal security:</td>\n",
       "<td>False</td></tr>\n",
       "<tr><td>H2O API Extensions:</td>\n",
       "<td>Amazon S3, Algos, AutoML, Core V3, Core V4</td></tr>\n",
       "<tr><td>Python version:</td>\n",
       "<td>3.7.3 final</td></tr></table></div>"
      ],
      "text/plain": [
       "--------------------------  ------------------------------------------\n",
       "H2O cluster uptime:         07 secs\n",
       "H2O cluster timezone:       America/Chicago\n",
       "H2O data parsing timezone:  UTC\n",
       "H2O cluster version:        3.24.0.4\n",
       "H2O cluster version age:    24 days\n",
       "H2O cluster name:           H2O_from_python_malbalawi_0euhae\n",
       "H2O cluster total nodes:    1\n",
       "H2O cluster free memory:    1.653 Gb\n",
       "H2O cluster total cores:    4\n",
       "H2O cluster allowed cores:  4\n",
       "H2O cluster status:         accepting new members, healthy\n",
       "H2O connection url:         http://127.0.0.1:54321\n",
       "H2O connection proxy:\n",
       "H2O internal security:      False\n",
       "H2O API Extensions:         Amazon S3, Algos, AutoML, Core V3, Core V4\n",
       "Python version:             3.7.3 final\n",
       "--------------------------  ------------------------------------------"
      ]
     },
     "metadata": {},
     "output_type": "display_data"
    }
   ],
   "source": [
    "h2o.init()"
   ]
  },
  {
   "cell_type": "code",
   "execution_count": 3,
   "metadata": {},
   "outputs": [],
   "source": [
    "pepole= h2o.get_frame(\"people\")"
   ]
  },
  {
   "cell_type": "code",
   "execution_count": 11,
   "metadata": {},
   "outputs": [
    {
     "data": {
      "text/html": [
       "<table>\n",
       "<thead>\n",
       "<tr><th style=\"text-align: right;\">  id</th><th>bloodType  </th><th style=\"text-align: right;\">    age</th><th style=\"text-align: right;\">  activeLifestyle</th><th style=\"text-align: right;\">  healthyEating</th><th style=\"text-align: right;\">  income</th></tr>\n",
       "</thead>\n",
       "<tbody>\n",
       "<tr><td style=\"text-align: right;\">   1</td><td>A          </td><td style=\"text-align: right;\">31.5161</td><td style=\"text-align: right;\">                4</td><td style=\"text-align: right;\">              3</td><td style=\"text-align: right;\"> 32882.6</td></tr>\n",
       "<tr><td style=\"text-align: right;\">   2</td><td>A          </td><td style=\"text-align: right;\">55.0503</td><td style=\"text-align: right;\">                3</td><td style=\"text-align: right;\">              4</td><td style=\"text-align: right;\"> 55122.2</td></tr>\n",
       "<tr><td style=\"text-align: right;\">   3</td><td>O          </td><td style=\"text-align: right;\">37.2219</td><td style=\"text-align: right;\">                7</td><td style=\"text-align: right;\">              3</td><td style=\"text-align: right;\"> 39654.8</td></tr>\n",
       "<tr><td style=\"text-align: right;\">   4</td><td>O          </td><td style=\"text-align: right;\">59.5018</td><td style=\"text-align: right;\">                7</td><td style=\"text-align: right;\">              6</td><td style=\"text-align: right;\"> 60222.8</td></tr>\n",
       "<tr><td style=\"text-align: right;\">   5</td><td>O          </td><td style=\"text-align: right;\">62.202 </td><td style=\"text-align: right;\">                2</td><td style=\"text-align: right;\">              7</td><td style=\"text-align: right;\"> 60124.5</td></tr>\n",
       "<tr><td style=\"text-align: right;\">   6</td><td>AB         </td><td style=\"text-align: right;\">20.1412</td><td style=\"text-align: right;\">                6</td><td style=\"text-align: right;\">              9</td><td style=\"text-align: right;\"> 30385  </td></tr>\n",
       "<tr><td style=\"text-align: right;\">   7</td><td>B          </td><td style=\"text-align: right;\">42.821 </td><td style=\"text-align: right;\">                3</td><td style=\"text-align: right;\">              6</td><td style=\"text-align: right;\"> 41886.1</td></tr>\n",
       "<tr><td style=\"text-align: right;\">   8</td><td>A          </td><td style=\"text-align: right;\">59.9437</td><td style=\"text-align: right;\">                1</td><td style=\"text-align: right;\">              3</td><td style=\"text-align: right;\"> 56849.6</td></tr>\n",
       "<tr><td style=\"text-align: right;\">   9</td><td>A          </td><td style=\"text-align: right;\">43.9174</td><td style=\"text-align: right;\">                5</td><td style=\"text-align: right;\">              7</td><td style=\"text-align: right;\"> 46261.9</td></tr>\n",
       "<tr><td style=\"text-align: right;\">  10</td><td>A          </td><td style=\"text-align: right;\">39.4609</td><td style=\"text-align: right;\">                5</td><td style=\"text-align: right;\">              7</td><td style=\"text-align: right;\"> 40373.7</td></tr>\n",
       "</tbody>\n",
       "</table>"
      ]
     },
     "metadata": {},
     "output_type": "display_data"
    },
    {
     "data": {
      "text/plain": []
     },
     "execution_count": 11,
     "metadata": {},
     "output_type": "execute_result"
    }
   ],
   "source": [
    "pepole"
   ]
  },
  {
   "cell_type": "code",
   "execution_count": 21,
   "metadata": {},
   "outputs": [],
   "source": [
    "train,valid,test= pepole.split_frame(ratios=[0.8,0.1],\n",
    "destination_frames=[\"Pepole_Train\",\"Pepole_Valdit\",\"Pepole_Test\"],\n",
    "seed=123)"
   ]
  },
  {
   "cell_type": "code",
   "execution_count": 22,
   "metadata": {},
   "outputs": [
    {
     "name": "stdout",
     "output_type": "stream",
     "text": [
      "788 118 94\n"
     ]
    }
   ],
   "source": [
    "print(train.nrows,valid.nrows,test.nrows)"
   ]
  },
  {
   "cell_type": "code",
   "execution_count": null,
   "metadata": {},
   "outputs": [],
   "source": []
  }
 ],
 "metadata": {
  "kernelspec": {
   "display_name": "Python 3",
   "language": "python",
   "name": "python3"
  },
  "language_info": {
   "codemirror_mode": {
    "name": "ipython",
    "version": 3
   },
   "file_extension": ".py",
   "mimetype": "text/x-python",
   "name": "python",
   "nbconvert_exporter": "python",
   "pygments_lexer": "ipython3",
   "version": "3.7.3"
  }
 },
 "nbformat": 4,
 "nbformat_minor": 2
}
