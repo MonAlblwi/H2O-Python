{
 "cells": [
  {
   "cell_type": "code",
   "execution_count": 1,
   "metadata": {},
   "outputs": [],
   "source": [
    "import h2o"
   ]
  },
  {
   "cell_type": "code",
   "execution_count": 2,
   "metadata": {},
   "outputs": [
    {
     "name": "stdout",
     "output_type": "stream",
     "text": [
      "Checking whether there is an H2O instance running at http://localhost:54321 ..... not found.\n",
      "Attempting to start a local H2O server...\n",
      "; Java HotSpot(TM) 64-Bit Server VM (build 25.211-b12, mixed mode)\n",
      "  Starting server from C:\\Users\\malbalawi\\AppData\\Roaming\\Python\\Python37\\site-packages\\h2o\\backend\\bin\\h2o.jar\n",
      "  Ice root: C:\\Users\\malbalawi\\AppData\\Local\\Temp\\2\\tmpnxfh_8fe\n",
      "  JVM stdout: C:\\Users\\malbalawi\\AppData\\Local\\Temp\\2\\tmpnxfh_8fe\\h2o_malbalawi_started_from_python.out\n",
      "  JVM stderr: C:\\Users\\malbalawi\\AppData\\Local\\Temp\\2\\tmpnxfh_8fe\\h2o_malbalawi_started_from_python.err\n",
      "  Server is running at http://127.0.0.1:54321\n",
      "Connecting to H2O server at http://127.0.0.1:54321 ... successful.\n"
     ]
    },
    {
     "data": {
      "text/html": [
       "<div style=\"overflow:auto\"><table style=\"width:50%\"><tr><td>H2O cluster uptime:</td>\n",
       "<td>13 secs</td></tr>\n",
       "<tr><td>H2O cluster timezone:</td>\n",
       "<td>America/Chicago</td></tr>\n",
       "<tr><td>H2O data parsing timezone:</td>\n",
       "<td>UTC</td></tr>\n",
       "<tr><td>H2O cluster version:</td>\n",
       "<td>3.24.0.4</td></tr>\n",
       "<tr><td>H2O cluster version age:</td>\n",
       "<td>26 days </td></tr>\n",
       "<tr><td>H2O cluster name:</td>\n",
       "<td>H2O_from_python_malbalawi_qebhgu</td></tr>\n",
       "<tr><td>H2O cluster total nodes:</td>\n",
       "<td>1</td></tr>\n",
       "<tr><td>H2O cluster free memory:</td>\n",
       "<td>1.653 Gb</td></tr>\n",
       "<tr><td>H2O cluster total cores:</td>\n",
       "<td>4</td></tr>\n",
       "<tr><td>H2O cluster allowed cores:</td>\n",
       "<td>4</td></tr>\n",
       "<tr><td>H2O cluster status:</td>\n",
       "<td>accepting new members, healthy</td></tr>\n",
       "<tr><td>H2O connection url:</td>\n",
       "<td>http://127.0.0.1:54321</td></tr>\n",
       "<tr><td>H2O connection proxy:</td>\n",
       "<td>None</td></tr>\n",
       "<tr><td>H2O internal security:</td>\n",
       "<td>False</td></tr>\n",
       "<tr><td>H2O API Extensions:</td>\n",
       "<td>Amazon S3, Algos, AutoML, Core V3, Core V4</td></tr>\n",
       "<tr><td>Python version:</td>\n",
       "<td>3.7.3 final</td></tr></table></div>"
      ],
      "text/plain": [
       "--------------------------  ------------------------------------------\n",
       "H2O cluster uptime:         13 secs\n",
       "H2O cluster timezone:       America/Chicago\n",
       "H2O data parsing timezone:  UTC\n",
       "H2O cluster version:        3.24.0.4\n",
       "H2O cluster version age:    26 days\n",
       "H2O cluster name:           H2O_from_python_malbalawi_qebhgu\n",
       "H2O cluster total nodes:    1\n",
       "H2O cluster free memory:    1.653 Gb\n",
       "H2O cluster total cores:    4\n",
       "H2O cluster allowed cores:  4\n",
       "H2O cluster status:         accepting new members, healthy\n",
       "H2O connection url:         http://127.0.0.1:54321\n",
       "H2O connection proxy:\n",
       "H2O internal security:      False\n",
       "H2O API Extensions:         Amazon S3, Algos, AutoML, Core V3, Core V4\n",
       "Python version:             3.7.3 final\n",
       "--------------------------  ------------------------------------------"
      ]
     },
     "metadata": {},
     "output_type": "display_data"
    }
   ],
   "source": [
    "h2o.init()"
   ]
  },
  {
   "cell_type": "code",
   "execution_count": 6,
   "metadata": {},
   "outputs": [
    {
     "name": "stdout",
     "output_type": "stream",
     "text": [
      "Parse progress: |█████████████████████████████████████████████████████████| 100%\n"
     ]
    }
   ],
   "source": [
    "url=\"https://data.princeton.edu/wws509/datasets/smoking.dat\"\n",
    "smoking=h2o.import_file(url,destination_frame=\"smoking\")\n",
    "                        "
   ]
  },
  {
   "cell_type": "code",
   "execution_count": 7,
   "metadata": {},
   "outputs": [
    {
     "data": {
      "text/html": [
       "<table>\n",
       "<thead>\n",
       "<tr><th>       </th><th>age               </th><th>smoke  </th><th>pop          </th><th>dead              </th><th>C5                </th></tr>\n",
       "</thead>\n",
       "<tbody>\n",
       "<tr><td>type   </td><td>int               </td><td>enum   </td><td>enum         </td><td>int               </td><td>int               </td></tr>\n",
       "<tr><td>mins   </td><td>1.0               </td><td>       </td><td>             </td><td>98.0              </td><td>2.0               </td></tr>\n",
       "<tr><td>mean   </td><td>18.5              </td><td>       </td><td>             </td><td>1558.9444444444443</td><td>253.61111111111114</td></tr>\n",
       "<tr><td>maxs   </td><td>36.0              </td><td>       </td><td>             </td><td>6052.0            </td><td>1001.0            </td></tr>\n",
       "<tr><td>sigma  </td><td>10.535653752852738</td><td>       </td><td>             </td><td>1562.232174887577 </td><td>262.5974951221821 </td></tr>\n",
       "<tr><td>zeros  </td><td>0                 </td><td>       </td><td>             </td><td>0                 </td><td>0                 </td></tr>\n",
       "<tr><td>missing</td><td>0                 </td><td>0      </td><td>0            </td><td>0                 </td><td>0                 </td></tr>\n",
       "<tr><td>0      </td><td>1.0               </td><td>40-44  </td><td>no           </td><td>656.0             </td><td>18.0              </td></tr>\n",
       "<tr><td>1      </td><td>2.0               </td><td>45-59  </td><td>no           </td><td>359.0             </td><td>22.0              </td></tr>\n",
       "<tr><td>2      </td><td>3.0               </td><td>50-54  </td><td>no           </td><td>249.0             </td><td>19.0              </td></tr>\n",
       "<tr><td>3      </td><td>4.0               </td><td>55-59  </td><td>no           </td><td>632.0             </td><td>55.0              </td></tr>\n",
       "<tr><td>4      </td><td>5.0               </td><td>60-64  </td><td>no           </td><td>1067.0            </td><td>117.0             </td></tr>\n",
       "<tr><td>5      </td><td>6.0               </td><td>65-69  </td><td>no           </td><td>897.0             </td><td>170.0             </td></tr>\n",
       "<tr><td>6      </td><td>7.0               </td><td>70-74  </td><td>no           </td><td>668.0             </td><td>179.0             </td></tr>\n",
       "<tr><td>7      </td><td>8.0               </td><td>75-79  </td><td>no           </td><td>361.0             </td><td>120.0             </td></tr>\n",
       "<tr><td>8      </td><td>9.0               </td><td>80+    </td><td>no           </td><td>274.0             </td><td>120.0             </td></tr>\n",
       "<tr><td>9      </td><td>10.0              </td><td>40-44  </td><td>cigarPipeOnly</td><td>145.0             </td><td>2.0               </td></tr>\n",
       "</tbody>\n",
       "</table>"
      ]
     },
     "metadata": {},
     "output_type": "display_data"
    }
   ],
   "source": [
    "smoking.summary()"
   ]
  }
 ],
 "metadata": {
  "kernelspec": {
   "display_name": "Python 3",
   "language": "python",
   "name": "python3"
  },
  "language_info": {
   "codemirror_mode": {
    "name": "ipython",
    "version": 3
   },
   "file_extension": ".py",
   "mimetype": "text/x-python",
   "name": "python",
   "nbconvert_exporter": "python",
   "pygments_lexer": "ipython3",
   "version": "3.7.3"
  }
 },
 "nbformat": 4,
 "nbformat_minor": 2
}
